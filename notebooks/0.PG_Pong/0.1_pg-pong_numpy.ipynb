{
 "cells": [
  {
   "cell_type": "code",
   "execution_count": 1,
   "metadata": {},
   "outputs": [
    {
     "name": "stdout",
     "output_type": "stream",
     "text": [
      "(210, 160, 3)\n"
     ]
    },
    {
     "name": "stderr",
     "output_type": "stream",
     "text": [
      "A.L.E: Arcade Learning Environment (version 0.10.1+6a7e0ae)\n",
      "[Powered by Stella]\n"
     ]
    }
   ],
   "source": [
    "import numpy as np \n",
    "import gymnasium as gym\n",
    "import ale_py\n",
    "import pickle\n",
    "\n",
    "gym.register_envs(ale_py)\n",
    "\n",
    "env = gym.make('PongNoFrameskip-v4')\n",
    "observation, info = env.reset()\n",
    "# obs, reward, terminated, truncated, info = env.step(env.action_space.sample())\n",
    "print(observation.shape)"
   ]
  },
  {
   "cell_type": "code",
   "execution_count": 2,
   "metadata": {},
   "outputs": [],
   "source": [
    "def downsample(image):\n",
    "    # Take only alternate pixels - basically halves the resolution of the image (which is fine for us)\n",
    "    return image[::2, ::2, :]\n",
    "\n",
    "def remove_color(image):\n",
    "    \"\"\"Convert all color (RGB is the third dimension in the image)\"\"\"\n",
    "    return image[:, :, 0]\n",
    "\n",
    "def remove_background(image):\n",
    "    image[image == 144] = 0  # erase background (background type 1)\n",
    "    image[image == 109] = 0 # erase background (background type 2)\n",
    "    return image\n",
    "\n",
    "def preprocess_observations(input_observation, prev_processed_observation, input_dimensions):\n",
    "    \"\"\" convert the 210x160x3 uint8 frame into a 6400 float vector \"\"\"\n",
    "    processed_observation = input_observation[35:195] # crop\n",
    "    processed_observation = downsample(processed_observation)\n",
    "    processed_observation = remove_color(processed_observation)\n",
    "    processed_observation = remove_background(processed_observation)\n",
    "    processed_observation[processed_observation != 0] = 1 # everything else (paddles, ball) just set to 1\n",
    "    # Convert from 80 x 80 matrix to 1600 x 1 matrix\n",
    "    processed_observation = processed_observation.astype(np.float64).ravel()\n",
    "\n",
    "    # subtract the previous frame from the current one so we are only processing on changes in the game\n",
    "    if prev_processed_observation is not None:\n",
    "        input_observation = processed_observation - prev_processed_observation\n",
    "    else:\n",
    "        input_observation = np.zeros(input_dimensions)\n",
    "    # store the previous frame so we can subtract from it next time\n",
    "    prev_processed_observations = processed_observation\n",
    "    return input_observation, prev_processed_observations\n"
   ]
  },
  {
   "cell_type": "code",
   "execution_count": 3,
   "metadata": {},
   "outputs": [],
   "source": [
    "def sigmoid(x):\n",
    "    return 1.0/(1.0 + np.exp(-x))\n",
    "\n",
    "def relu(vector):\n",
    "    vector[vector < 0] = 0\n",
    "    return vector\n",
    "\n",
    "def policy_forward(observation_matrix, weights):\n",
    "    \"\"\" Based on the observation_matrix and weights, compute the new hidden layer values and the new output layer values (probability of taking action 2)\"\"\"\n",
    "    hidden_layer_values = np.dot(weights['1'], observation_matrix)\n",
    "    hidden_layer_values = relu(hidden_layer_values)\n",
    "    output_layer_values = np.dot(weights['2'], hidden_layer_values)\n",
    "    output_layer_values = sigmoid(output_layer_values)\n",
    "    return hidden_layer_values, output_layer_values"
   ]
  },
  {
   "cell_type": "code",
   "execution_count": 4,
   "metadata": {},
   "outputs": [],
   "source": [
    "def choose_action(probability):\n",
    "    random_value = np.random.uniform()\n",
    "    if random_value < probability:\n",
    "        # signifies up in openai gym\n",
    "        return 2\n",
    "    else:\n",
    "         # signifies down in openai gym\n",
    "        return 3"
   ]
  },
  {
   "cell_type": "code",
   "execution_count": 5,
   "metadata": {},
   "outputs": [],
   "source": [
    "def discount_rewards(rewards, gamma):\n",
    "    \"\"\" Actions you took x steps before the end result are less important to the overall result than an action you took a step ago.\n",
    "    This implements that logic by discounting the reward on previous actions based on how long ago they were taken\"\"\"\n",
    "    discounted_rewards = np.zeros_like(rewards)\n",
    "    running_add = 0\n",
    "    for t in reversed(range(0, rewards.size)):\n",
    "        if rewards[t] != 0:\n",
    "            running_add = 0 # reset the sum, since this was a game boundary (pong specific!)\n",
    "        running_add = running_add * gamma + rewards[t]\n",
    "        discounted_rewards[t] = running_add\n",
    "    return discounted_rewards\n",
    "\n",
    "def discount_with_rewards(gradient_log_p, episode_rewards, gamma):\n",
    "    \"\"\" discount the gradient with the normalized rewards \"\"\"\n",
    "    discounted_episode_rewards = discount_rewards(episode_rewards, gamma)\n",
    "    # standardize the rewards to be unit normal (helps control the gradient estimator variance)\n",
    "    discounted_episode_rewards -= np.mean(discounted_episode_rewards)\n",
    "    discounted_episode_rewards /= np.std(discounted_episode_rewards)\n",
    "    return gradient_log_p * discounted_episode_rewards"
   ]
  },
  {
   "cell_type": "markdown",
   "metadata": {},
   "source": [
    "<img src=\"./images/derivative.png\" width=\"auto\"  />"
   ]
  },
  {
   "cell_type": "code",
   "execution_count": 6,
   "metadata": {},
   "outputs": [],
   "source": [
    "def policy_backward(gradient_log_p, hidden_layer_values, observation_values, weights):\n",
    "    \"\"\" See here: http://neuralnetworksanddeeplearning.com/chap2.html\"\"\"\n",
    "    delta_L = gradient_log_p # (10, 1) I say 10 just random example\n",
    "    dC_dw2 = np.dot(hidden_layer_values.T, delta_L).ravel() # ∂L/∂w2 = ∂L/∂f * ∂f/∂w2 where last one is just hidden layer values (10,200,1).T = (1,200,10) dot (10,1) = (1,200,1).ravel = 200\n",
    "    delta_l2 = np.outer(delta_L, weights['2']) # ∂L/∂x2 = ∂L/∂f * ∂L/∂x2 where last one is weights of w2 (10,1)outer(200) = (10,200)\n",
    "    delta_l2 = relu(delta_l2) # ∂L/∂a don't forget that we had acticavation function, so we need to get rid of negative numbers before back propagate further (10,200)\n",
    "    dC_dw1 = np.dot(delta_l2.T, observation_values) # ∂L/∂w1 = ∂L/∂a * ∂a/∂w1  (10,200).T * (10,1600) => (200,10)*(10,1600) = (200,1600)\n",
    "    return {\n",
    "        '1': dC_dw1,\n",
    "        '2': dC_dw2\n",
    "    }"
   ]
  },
  {
   "cell_type": "markdown",
   "metadata": {},
   "source": [
    "<img src=\"./images/derivative_2.png\" width=\"auto\"  />"
   ]
  },
  {
   "cell_type": "code",
   "execution_count": 7,
   "metadata": {},
   "outputs": [],
   "source": [
    "def update_weights(weights, expectation_g_squared, g_dict, decay_rate, learning_rate):\n",
    "    \"\"\" See here: http://sebastianruder.com/optimizing-gradient-descent/index.html#rmsprop\"\"\"\n",
    "    epsilon = 1e-5\n",
    "    for layer_name in weights.keys():\n",
    "        g = g_dict[layer_name]\n",
    "        expectation_g_squared[layer_name] = decay_rate * expectation_g_squared[layer_name] + (1 - decay_rate) * g**2\n",
    "        weights[layer_name] += (learning_rate * g)/(np.sqrt(expectation_g_squared[layer_name] + epsilon))\n",
    "        g_dict[layer_name] = np.zeros_like(weights[layer_name]) # reset batch gradient buffer"
   ]
  },
  {
   "cell_type": "code",
   "execution_count": 8,
   "metadata": {},
   "outputs": [],
   "source": [
    " # hyperparameters\n",
    "batch_size = 10 # every how many episodes to do a param update?\n",
    "gamma = 0.99 # discount factor for reward\n",
    "decay_rate = 0.99  # decay factor for RMSProp leaky sum of grad^2\n",
    "num_hidden_layer_neurons = 200\n",
    "input_dimensions = 80 * 80\n",
    "learning_rate = 1e-4\n",
    "render = False"
   ]
  },
  {
   "cell_type": "code",
   "execution_count": null,
   "metadata": {},
   "outputs": [],
   "source": [
    "episode_number = 0\n",
    "reward_sum = 0\n",
    "running_reward = None\n",
    "prev_processed_observations = None\n",
    "resume = False\n",
    "\n",
    "\n",
    "if resume:\n",
    "    weights = pickle.load(open('./models/save.p', 'rb'))\n",
    "else:\n",
    "    weights = {\n",
    "        '1': np.random.randn(num_hidden_layer_neurons, input_dimensions) / np.sqrt(input_dimensions),\n",
    "        '2': np.random.randn(num_hidden_layer_neurons) / np.sqrt(num_hidden_layer_neurons)\n",
    "    }\n"
   ]
  },
  {
   "cell_type": "code",
   "execution_count": 10,
   "metadata": {},
   "outputs": [],
   "source": [
    " # To be used with rmsprop algorithm (http://sebastianruder.com/optimizing-gradient-descent/index.html#rmsprop)\n",
    "expectation_g_squared = {}\n",
    "g_dict = {}\n",
    "for layer_name in weights.keys():\n",
    "    expectation_g_squared[layer_name] = np.zeros_like(weights[layer_name])\n",
    "    g_dict[layer_name] = np.zeros_like(weights[layer_name])"
   ]
  },
  {
   "cell_type": "code",
   "execution_count": null,
   "metadata": {},
   "outputs": [],
   "source": [
    "episode_hidden_layer_values, episode_observations, episode_gradient_log_ps, episode_rewards = [], [], [], []\n",
    "\n",
    "while True:\n",
    "    if render: env.render()\n",
    "\n",
    "    processed_observations, prev_processed_observations = preprocess_observations(observation, prev_processed_observations, input_dimensions)\n",
    "\n",
    "    hidden_layer_values, up_probability = policy_forward(processed_observations, weights)\n",
    "    episode_observations.append(processed_observations)\n",
    "    episode_hidden_layer_values.append(hidden_layer_values)\n",
    "\n",
    "    action = choose_action(up_probability) # toss the coin, up or down \n",
    "    # carry out the chosen action\n",
    "    observation, reward, terminated, truncated, info = env.step(action)\n",
    "\n",
    "    reward_sum += reward\n",
    "    episode_rewards.append(reward)\n",
    "\n",
    "    # see here: http://cs231n.github.io/neural-networks-2/#losses\n",
    "    # ∂L/∂f = predicted_label(0 or 1) - true_label(0 or 1) or (sigmoid(f) - y)\n",
    "    # take negative of gradient to reduce error  when its added in future or -∂L/∂f = y - sigmoid(f)\n",
    "    fake_label = 1 if action == 2 else 0\n",
    "    loss_function_gradient = fake_label - up_probability # grad that encourages the action that was taken to be taken \n",
    "    episode_gradient_log_ps.append(loss_function_gradient)\n",
    "\n",
    "    if truncated or terminated:\n",
    "\n",
    "        episode_number += 1\n",
    "        \n",
    "        # Combine the following values for the episode\n",
    "        episode_hidden_layer_values = np.vstack(episode_hidden_layer_values)\n",
    "        episode_observations = np.vstack(episode_observations)\n",
    "        episode_gradient_log_ps = np.vstack(episode_gradient_log_ps)\n",
    "        episode_rewards = np.vstack(episode_rewards)\n",
    "\n",
    "        # Tweak the gradient of the log_ps based on the discounted rewards\n",
    "        # modulate the gradient with advantage (PG magic happens right here.)\n",
    "        # so each gradient loss * discounted rewards hmmmm\n",
    "        episode_gradient_log_ps_discounted = discount_with_rewards(episode_gradient_log_ps, episode_rewards, gamma)\n",
    "        gradient = policy_backward(\n",
    "            episode_gradient_log_ps_discounted,\n",
    "            episode_hidden_layer_values,\n",
    "            episode_observations,\n",
    "            weights\n",
    "        )\n",
    "\n",
    "        # Sum the gradient for use when we hit the batch size ( accumulate grad over batch)\n",
    "        for layer_name in gradient:\n",
    "            g_dict[layer_name] += gradient[layer_name]\n",
    "        \n",
    "        if episode_number % batch_size == 0:\n",
    "            update_weights(weights, expectation_g_squared, g_dict, decay_rate, learning_rate)\n",
    "\n",
    "        episode_hidden_layer_values, episode_observations, episode_gradient_log_ps, episode_rewards = [], [], [], [] # reset values\n",
    "        observation, info = env.reset() # reset env\n",
    "        \n",
    "        # boring book-keeping\n",
    "        running_reward = reward_sum if running_reward is None else running_reward * 0.99 + reward_sum * 0.01\n",
    "        print('\\r %f resetting env. episode reward total was %f. running mean: %f' % (episode_number, reward_sum, running_reward))\n",
    "        if episode_number % 100 == 0: pickle.dump(weights, open('./models/save.p', 'wb'))\n",
    "        reward_sum = 0\n",
    "        prev_processed_observations = None\n",
    "       \n",
    "\n",
    "\n",
    "\n"
   ]
  }
 ],
 "metadata": {
  "kernelspec": {
   "display_name": "RL-Odyssey",
   "language": "python",
   "name": "python3"
  },
  "language_info": {
   "codemirror_mode": {
    "name": "ipython",
    "version": 3
   },
   "file_extension": ".py",
   "mimetype": "text/x-python",
   "name": "python",
   "nbconvert_exporter": "python",
   "pygments_lexer": "ipython3",
   "version": "3.11.11"
  }
 },
 "nbformat": 4,
 "nbformat_minor": 2
}
